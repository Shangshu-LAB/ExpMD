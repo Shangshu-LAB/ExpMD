{
 "cells": [
  {
   "cell_type": "code",
   "execution_count": 1,
   "metadata": {
    "collapsed": true,
    "pycharm": {
     "name": "#%%\n"
    }
   },
   "outputs": [],
   "source": [
    "import pandas as pd\n",
    "import numpy as np\n",
    "import json\n",
    "import gzip\n",
    "import os"
   ]
  },
  {
   "cell_type": "code",
   "execution_count": 2,
   "outputs": [],
   "source": [
    "# dataset_name = 'sample'\n",
    "dataset_name = '2100'"
   ],
   "metadata": {
    "collapsed": false,
    "pycharm": {
     "name": "#%%\n"
    }
   }
  },
  {
   "cell_type": "code",
   "execution_count": 3,
   "outputs": [
    {
     "data": {
      "text/plain": "                  ts  bytes_out  pkts_out  bytes_in  pkts_in  \\\n0       1.592754e+09       1468        10      5307        8   \n1       1.592714e+09       3033        14      4995       12   \n2       1.592754e+09       3393        14      6440       11   \n3       1.592747e+09        656         9      5447        8   \n4       1.592754e+09       3366        14      5432       10   \n...              ...        ...       ...       ...      ...   \n218395  1.593515e+09        221        57    395197       57   \n218396  1.592755e+09        245         4      8522        3   \n218397  1.593513e+09        460       224   1526943      300   \n218398  1.593513e+09      14167        16      1716       15   \n218399  1.592755e+09       1174        12      5138       11   \n\n                                                  packets  \\\n0       [{'t': 0.0, 'd': '>', 'l': 60, 'b': 0, 'iat': ...   \n1       [{'t': 0.0, 'd': '>', 'l': 60, 'b': 0, 'iat': ...   \n2       [{'t': 0.0, 'd': '>', 'l': 60, 'b': 0, 'iat': ...   \n3       [{'t': 0.0, 'd': '>', 'l': 60, 'b': 0, 'iat': ...   \n4       [{'t': 0.0, 'd': '>', 'l': 60, 'b': 0, 'iat': ...   \n...                                                   ...   \n218395  [{'t': 0.0, 'd': '>', 'l': 60, 'b': 0, 'iat': ...   \n218396  [{'t': 0.0, 'd': '>', 'l': 60, 'b': 0, 'iat': ...   \n218397  [{'t': 0.0, 'd': '>', 'l': 60, 'b': 0, 'iat': ...   \n218398  [{'t': 0.0, 'd': '>', 'l': 60, 'b': 0, 'iat': ...   \n218399  [{'t': 0.0, 'd': '>', 'l': 60, 'b': 0, 'iat': ...   \n\n                                                   upload  \\\n0       [22, 3, 1, 2, 7, 1, 0, 2, 3, 3, 3, 207, 127, 8...   \n1       [22, 3, 1, 2, 0, 1, 0, 1, 252, 3, 3, 35, 150, ...   \n2       [22, 3, 1, 2, 0, 1, 0, 1, 252, 3, 3, 107, 104,...   \n3       [22, 3, 1, 2, 13, 1, 0, 2, 9, 3, 3, 80, 106, 7...   \n4       [22, 3, 1, 2, 0, 1, 0, 1, 252, 3, 3, 0, 47, 10...   \n...                                                   ...   \n218395  [71, 69, 84, 32, 47, 50, 48, 50, 48, 47, 48, 5...   \n218396  [71, 69, 84, 32, 47, 116, 111, 117, 116, 105, ...   \n218397  [71, 69, 84, 32, 47, 50, 48, 50, 48, 47, 48, 5...   \n218398  [80, 79, 83, 84, 32, 47, 97, 112, 105, 47, 111...   \n218399  [22, 3, 1, 0, 178, 1, 0, 0, 174, 3, 3, 53, 214...   \n\n                                                 download  \\\n0       [22, 3, 3, 0, 84, 2, 0, 0, 80, 3, 3, 255, 234,...   \n1       [22, 3, 3, 0, 84, 2, 0, 0, 80, 3, 3, 143, 211,...   \n2       [22, 3, 3, 0, 65, 2, 0, 0, 61, 3, 3, 154, 163,...   \n3       [22, 3, 3, 0, 65, 2, 0, 0, 61, 3, 3, 204, 129,...   \n4       [22, 3, 3, 0, 65, 2, 0, 0, 61, 3, 3, 97, 134, ...   \n...                                                   ...   \n218395  [72, 84, 84, 80, 47, 49, 46, 49, 32, 50, 48, 4...   \n218396  [72, 84, 84, 80, 47, 49, 46, 49, 32, 50, 48, 4...   \n218397  [72, 84, 84, 80, 47, 49, 46, 49, 32, 50, 48, 5...   \n218398  [72, 84, 84, 80, 47, 49, 46, 49, 32, 50, 48, 4...   \n218399  [22, 3, 3, 0, 63, 2, 0, 0, 59, 3, 3, 94, 239, ...   \n\n                                                     upBD  \\\n0       [89, 25, 13, 27, 8, 11, 4, 4, 14, 7, 11, 4, 6,...   \n1       [329, 26, 17, 27, 14, 17, 14, 11, 20, 13, 11, ...   \n2       [317, 26, 22, 35, 14, 17, 11, 14, 15, 15, 15, ...   \n3       [80, 21, 10, 18, 6, 6, 3, 0, 5, 7, 8, 4, 3, 3,...   \n4       [322, 33, 14, 34, 21, 17, 12, 14, 17, 20, 15, ...   \n...                                                   ...   \n218395  [0, 0, 0, 0, 0, 0, 0, 0, 0, 0, 6, 0, 0, 6, 0, ...   \n218396  [0, 0, 0, 0, 0, 0, 0, 0, 0, 0, 6, 0, 0, 6, 0, ...   \n218397  [0, 0, 0, 0, 0, 0, 0, 0, 0, 0, 13, 0, 0, 13, 0...   \n218398  [61, 6, 14, 15, 13, 10, 19, 30, 23, 12, 85, 19...   \n218399  [80, 17, 7, 21, 7, 8, 6, 2, 11, 5, 8, 4, 5, 7,...   \n\n                                                   downBD        dur  \\\n0       [110, 142, 65, 112, 87, 62, 122, 27, 36, 34, 2...   0.509243   \n1       [109, 137, 58, 113, 86, 63, 118, 31, 33, 38, 2...  10.216423   \n2       [114, 153, 71, 116, 89, 65, 118, 33, 40, 38, 2...   4.719829   \n3       [99, 128, 60, 113, 84, 51, 116, 33, 33, 21, 21...  29.614075   \n4       [103, 142, 63, 109, 86, 60, 121, 30, 34, 37, 2...   7.391226   \n...                                                   ...        ...   \n218395  [6901, 1718, 1563, 1598, 1594, 1508, 1562, 155...   0.192832   \n218396  [132, 51, 39, 49, 27, 43, 26, 33, 28, 20, 47, ...   0.062877   \n218397  [32068, 9867, 7539, 6230, 6348, 5655, 5847, 60...  51.215015   \n218398  [0, 0, 0, 0, 0, 0, 0, 0, 0, 0, 42, 0, 0, 36, 0...  36.194917   \n218399  [115, 96, 48, 81, 63, 36, 79, 20, 27, 26, 25, ...   3.882120   \n\n               sa               da     sp   dp  pr         label  \n0       10.1.10.1   36.110.240.118  46634  443   6  360借条-贷款分期借款  \n1       10.1.10.1   27.115.124.183  37076  443   6  360借条-贷款分期借款  \n2       10.1.10.1   111.206.251.53  48354  443   6  360借条-贷款分期借款  \n3       10.1.10.1   111.206.251.70  44286  443   6  360借条-贷款分期借款  \n4       10.1.10.1   111.206.251.53  46878  443   6  360借条-贷款分期借款  \n...           ...              ...    ...  ...  ..           ...  \n218395  10.1.10.1    58.49.194.238  45290   80   6          驾考宝典  \n218396  10.1.10.1   124.232.170.14  53910   80   6          驾考宝典  \n218397  10.1.10.1    58.216.15.244  37788   80   6          驾考宝典  \n218398  10.1.10.1   120.27.185.148  53250   80   6          驾考宝典  \n218399  10.1.10.1  180.101.212.184  51370  443   6          驾考宝典  \n\n[218400 rows x 17 columns]",
      "text/html": "<div>\n<style scoped>\n    .dataframe tbody tr th:only-of-type {\n        vertical-align: middle;\n    }\n\n    .dataframe tbody tr th {\n        vertical-align: top;\n    }\n\n    .dataframe thead th {\n        text-align: right;\n    }\n</style>\n<table border=\"1\" class=\"dataframe\">\n  <thead>\n    <tr style=\"text-align: right;\">\n      <th></th>\n      <th>ts</th>\n      <th>bytes_out</th>\n      <th>pkts_out</th>\n      <th>bytes_in</th>\n      <th>pkts_in</th>\n      <th>packets</th>\n      <th>upload</th>\n      <th>download</th>\n      <th>upBD</th>\n      <th>downBD</th>\n      <th>dur</th>\n      <th>sa</th>\n      <th>da</th>\n      <th>sp</th>\n      <th>dp</th>\n      <th>pr</th>\n      <th>label</th>\n    </tr>\n  </thead>\n  <tbody>\n    <tr>\n      <th>0</th>\n      <td>1.592754e+09</td>\n      <td>1468</td>\n      <td>10</td>\n      <td>5307</td>\n      <td>8</td>\n      <td>[{'t': 0.0, 'd': '&gt;', 'l': 60, 'b': 0, 'iat': ...</td>\n      <td>[22, 3, 1, 2, 7, 1, 0, 2, 3, 3, 3, 207, 127, 8...</td>\n      <td>[22, 3, 3, 0, 84, 2, 0, 0, 80, 3, 3, 255, 234,...</td>\n      <td>[89, 25, 13, 27, 8, 11, 4, 4, 14, 7, 11, 4, 6,...</td>\n      <td>[110, 142, 65, 112, 87, 62, 122, 27, 36, 34, 2...</td>\n      <td>0.509243</td>\n      <td>10.1.10.1</td>\n      <td>36.110.240.118</td>\n      <td>46634</td>\n      <td>443</td>\n      <td>6</td>\n      <td>360借条-贷款分期借款</td>\n    </tr>\n    <tr>\n      <th>1</th>\n      <td>1.592714e+09</td>\n      <td>3033</td>\n      <td>14</td>\n      <td>4995</td>\n      <td>12</td>\n      <td>[{'t': 0.0, 'd': '&gt;', 'l': 60, 'b': 0, 'iat': ...</td>\n      <td>[22, 3, 1, 2, 0, 1, 0, 1, 252, 3, 3, 35, 150, ...</td>\n      <td>[22, 3, 3, 0, 84, 2, 0, 0, 80, 3, 3, 143, 211,...</td>\n      <td>[329, 26, 17, 27, 14, 17, 14, 11, 20, 13, 11, ...</td>\n      <td>[109, 137, 58, 113, 86, 63, 118, 31, 33, 38, 2...</td>\n      <td>10.216423</td>\n      <td>10.1.10.1</td>\n      <td>27.115.124.183</td>\n      <td>37076</td>\n      <td>443</td>\n      <td>6</td>\n      <td>360借条-贷款分期借款</td>\n    </tr>\n    <tr>\n      <th>2</th>\n      <td>1.592754e+09</td>\n      <td>3393</td>\n      <td>14</td>\n      <td>6440</td>\n      <td>11</td>\n      <td>[{'t': 0.0, 'd': '&gt;', 'l': 60, 'b': 0, 'iat': ...</td>\n      <td>[22, 3, 1, 2, 0, 1, 0, 1, 252, 3, 3, 107, 104,...</td>\n      <td>[22, 3, 3, 0, 65, 2, 0, 0, 61, 3, 3, 154, 163,...</td>\n      <td>[317, 26, 22, 35, 14, 17, 11, 14, 15, 15, 15, ...</td>\n      <td>[114, 153, 71, 116, 89, 65, 118, 33, 40, 38, 2...</td>\n      <td>4.719829</td>\n      <td>10.1.10.1</td>\n      <td>111.206.251.53</td>\n      <td>48354</td>\n      <td>443</td>\n      <td>6</td>\n      <td>360借条-贷款分期借款</td>\n    </tr>\n    <tr>\n      <th>3</th>\n      <td>1.592747e+09</td>\n      <td>656</td>\n      <td>9</td>\n      <td>5447</td>\n      <td>8</td>\n      <td>[{'t': 0.0, 'd': '&gt;', 'l': 60, 'b': 0, 'iat': ...</td>\n      <td>[22, 3, 1, 2, 13, 1, 0, 2, 9, 3, 3, 80, 106, 7...</td>\n      <td>[22, 3, 3, 0, 65, 2, 0, 0, 61, 3, 3, 204, 129,...</td>\n      <td>[80, 21, 10, 18, 6, 6, 3, 0, 5, 7, 8, 4, 3, 3,...</td>\n      <td>[99, 128, 60, 113, 84, 51, 116, 33, 33, 21, 21...</td>\n      <td>29.614075</td>\n      <td>10.1.10.1</td>\n      <td>111.206.251.70</td>\n      <td>44286</td>\n      <td>443</td>\n      <td>6</td>\n      <td>360借条-贷款分期借款</td>\n    </tr>\n    <tr>\n      <th>4</th>\n      <td>1.592754e+09</td>\n      <td>3366</td>\n      <td>14</td>\n      <td>5432</td>\n      <td>10</td>\n      <td>[{'t': 0.0, 'd': '&gt;', 'l': 60, 'b': 0, 'iat': ...</td>\n      <td>[22, 3, 1, 2, 0, 1, 0, 1, 252, 3, 3, 0, 47, 10...</td>\n      <td>[22, 3, 3, 0, 65, 2, 0, 0, 61, 3, 3, 97, 134, ...</td>\n      <td>[322, 33, 14, 34, 21, 17, 12, 14, 17, 20, 15, ...</td>\n      <td>[103, 142, 63, 109, 86, 60, 121, 30, 34, 37, 2...</td>\n      <td>7.391226</td>\n      <td>10.1.10.1</td>\n      <td>111.206.251.53</td>\n      <td>46878</td>\n      <td>443</td>\n      <td>6</td>\n      <td>360借条-贷款分期借款</td>\n    </tr>\n    <tr>\n      <th>...</th>\n      <td>...</td>\n      <td>...</td>\n      <td>...</td>\n      <td>...</td>\n      <td>...</td>\n      <td>...</td>\n      <td>...</td>\n      <td>...</td>\n      <td>...</td>\n      <td>...</td>\n      <td>...</td>\n      <td>...</td>\n      <td>...</td>\n      <td>...</td>\n      <td>...</td>\n      <td>...</td>\n      <td>...</td>\n    </tr>\n    <tr>\n      <th>218395</th>\n      <td>1.593515e+09</td>\n      <td>221</td>\n      <td>57</td>\n      <td>395197</td>\n      <td>57</td>\n      <td>[{'t': 0.0, 'd': '&gt;', 'l': 60, 'b': 0, 'iat': ...</td>\n      <td>[71, 69, 84, 32, 47, 50, 48, 50, 48, 47, 48, 5...</td>\n      <td>[72, 84, 84, 80, 47, 49, 46, 49, 32, 50, 48, 4...</td>\n      <td>[0, 0, 0, 0, 0, 0, 0, 0, 0, 0, 6, 0, 0, 6, 0, ...</td>\n      <td>[6901, 1718, 1563, 1598, 1594, 1508, 1562, 155...</td>\n      <td>0.192832</td>\n      <td>10.1.10.1</td>\n      <td>58.49.194.238</td>\n      <td>45290</td>\n      <td>80</td>\n      <td>6</td>\n      <td>驾考宝典</td>\n    </tr>\n    <tr>\n      <th>218396</th>\n      <td>1.592755e+09</td>\n      <td>245</td>\n      <td>4</td>\n      <td>8522</td>\n      <td>3</td>\n      <td>[{'t': 0.0, 'd': '&gt;', 'l': 60, 'b': 0, 'iat': ...</td>\n      <td>[71, 69, 84, 32, 47, 116, 111, 117, 116, 105, ...</td>\n      <td>[72, 84, 84, 80, 47, 49, 46, 49, 32, 50, 48, 4...</td>\n      <td>[0, 0, 0, 0, 0, 0, 0, 0, 0, 0, 6, 0, 0, 6, 0, ...</td>\n      <td>[132, 51, 39, 49, 27, 43, 26, 33, 28, 20, 47, ...</td>\n      <td>0.062877</td>\n      <td>10.1.10.1</td>\n      <td>124.232.170.14</td>\n      <td>53910</td>\n      <td>80</td>\n      <td>6</td>\n      <td>驾考宝典</td>\n    </tr>\n    <tr>\n      <th>218397</th>\n      <td>1.593513e+09</td>\n      <td>460</td>\n      <td>224</td>\n      <td>1526943</td>\n      <td>300</td>\n      <td>[{'t': 0.0, 'd': '&gt;', 'l': 60, 'b': 0, 'iat': ...</td>\n      <td>[71, 69, 84, 32, 47, 50, 48, 50, 48, 47, 48, 5...</td>\n      <td>[72, 84, 84, 80, 47, 49, 46, 49, 32, 50, 48, 5...</td>\n      <td>[0, 0, 0, 0, 0, 0, 0, 0, 0, 0, 13, 0, 0, 13, 0...</td>\n      <td>[32068, 9867, 7539, 6230, 6348, 5655, 5847, 60...</td>\n      <td>51.215015</td>\n      <td>10.1.10.1</td>\n      <td>58.216.15.244</td>\n      <td>37788</td>\n      <td>80</td>\n      <td>6</td>\n      <td>驾考宝典</td>\n    </tr>\n    <tr>\n      <th>218398</th>\n      <td>1.593513e+09</td>\n      <td>14167</td>\n      <td>16</td>\n      <td>1716</td>\n      <td>15</td>\n      <td>[{'t': 0.0, 'd': '&gt;', 'l': 60, 'b': 0, 'iat': ...</td>\n      <td>[80, 79, 83, 84, 32, 47, 97, 112, 105, 47, 111...</td>\n      <td>[72, 84, 84, 80, 47, 49, 46, 49, 32, 50, 48, 4...</td>\n      <td>[61, 6, 14, 15, 13, 10, 19, 30, 23, 12, 85, 19...</td>\n      <td>[0, 0, 0, 0, 0, 0, 0, 0, 0, 0, 42, 0, 0, 36, 0...</td>\n      <td>36.194917</td>\n      <td>10.1.10.1</td>\n      <td>120.27.185.148</td>\n      <td>53250</td>\n      <td>80</td>\n      <td>6</td>\n      <td>驾考宝典</td>\n    </tr>\n    <tr>\n      <th>218399</th>\n      <td>1.592755e+09</td>\n      <td>1174</td>\n      <td>12</td>\n      <td>5138</td>\n      <td>11</td>\n      <td>[{'t': 0.0, 'd': '&gt;', 'l': 60, 'b': 0, 'iat': ...</td>\n      <td>[22, 3, 1, 0, 178, 1, 0, 0, 174, 3, 3, 53, 214...</td>\n      <td>[22, 3, 3, 0, 63, 2, 0, 0, 59, 3, 3, 94, 239, ...</td>\n      <td>[80, 17, 7, 21, 7, 8, 6, 2, 11, 5, 8, 4, 5, 7,...</td>\n      <td>[115, 96, 48, 81, 63, 36, 79, 20, 27, 26, 25, ...</td>\n      <td>3.882120</td>\n      <td>10.1.10.1</td>\n      <td>180.101.212.184</td>\n      <td>51370</td>\n      <td>443</td>\n      <td>6</td>\n      <td>驾考宝典</td>\n    </tr>\n  </tbody>\n</table>\n<p>218400 rows × 17 columns</p>\n</div>"
     },
     "execution_count": 3,
     "metadata": {},
     "output_type": "execute_result"
    }
   ],
   "source": [
    "with gzip.open(f'Dataset/dataset_{dataset_name}.json.gz') as f:\n",
    "    DATA = json.loads(f.read())\n",
    "df = pd.DataFrame(DATA)\n",
    "df"
   ],
   "metadata": {
    "collapsed": false,
    "pycharm": {
     "name": "#%%\n"
    }
   }
  },
  {
   "cell_type": "code",
   "execution_count": 4,
   "outputs": [
    {
     "data": {
      "text/plain": "{'识货': 0,\n '雪球股票': 1,\n '学霸君': 2,\n '车轮违章查询': 3,\n '猫眼': 4,\n 'QQ': 5,\n '新浪财经': 6,\n '壹钱包': 7,\n '交管12123': 8,\n '挖财记账': 9,\n '摩拜单车': 10,\n '疯读小说': 11,\n '神州租车': 12,\n '随行付Plus': 13,\n '金山词霸': 14,\n '货拉拉-拉货搬家': 15,\n '第五人格': 16,\n '轻颜相机': 17,\n '华住会': 18,\n '天眼查企业查询': 19,\n '天天基金': 20,\n '中国银行': 21,\n '同花顺': 22,\n '微信': 23,\n '菜鸟裹裹': 24,\n '\\xa0猎豹安全大师': 25,\n '买单吧': 26,\n '皇室战争': 27,\n '无忧行': 28,\n '曹操出行': 29,\n '和地图': 30,\n '追书神器': 31,\n '安逸花': 32,\n '运满满司机': 33,\n '蚂蜂窝自由行': 34,\n '中国建设银行': 35,\n '国美': 36,\n '美篇': 37,\n 'WiFi万能钥匙': 38,\n '饿了么星选': 39,\n '七猫免费小说': 40,\n '自动点击器': 41,\n '360清理大师': 42,\n '美拍': 43,\n '有道翻译官': 44,\n '每日优鲜': 45,\n '抖音短视频': 46,\n '360借条-贷款分期借款': 47,\n '交通银行': 48,\n '懂车帝': 49,\n '百度手机助手': 50,\n '腾讯视频': 51,\n '红果免费小说': 52,\n '美团外卖': 53,\n '来分期': 54,\n '天眼查': 55,\n '移动惠生活': 56,\n '全民K歌': 57,\n '小猿口算': 58,\n '哈啰出行': 59,\n '应用宝': 60,\n '云闪付': 61,\n '省钱快报': 62,\n '贪吃蛇大作战®': 63,\n '豌豆荚': 64,\n '网易云音乐': 65,\n '小米有品': 66,\n '拼多多': 67,\n 'luckin coffee': 68,\n '阳光惠生活': 69,\n '夸克': 70,\n '马上金融': 71,\n 'PicsArt美易照片编辑': 72,\n '萤石云视频': 73,\n '企业微信': 74,\n '穿越火线：枪战王者': 75,\n '水印相机': 76,\n '我的世界': 77,\n '快手': 78,\n '滴滴车主': 79,\n '百度输入法': 80,\n '微盘': 81,\n '分期乐': 82,\n '翼龙贷财富': 83,\n '金太阳': 84,\n '网上国网': 85,\n '邮储银行': 86,\n '番茄免费小说': 87,\n 'QQ音乐': 88,\n '银河期货开户交易': 89,\n '腾讯动漫': 90,\n '驾考宝典': 91,\n '电信营业厅': 92,\n '支付宝': 93,\n '嗨来电': 94,\n '部落冲突': 95,\n 'Dropbox': 96,\n '哔哩哔哩': 97,\n '手机营业厅': 98,\n '华为穿戴': 99,\n '微博动漫': 100,\n '中国人保': 101,\n 'WPS Office': 102,\n '和平精英': 103}"
     },
     "execution_count": 4,
     "metadata": {},
     "output_type": "execute_result"
    }
   ],
   "source": [
    "with open(f'Dataset/label_{dataset_name}.info', encoding='utf-8') as f:\n",
    "    label2idx = eval(f.read())\n",
    "labels = list(label2idx.keys())\n",
    "label2idx"
   ],
   "metadata": {
    "collapsed": false,
    "pycharm": {
     "name": "#%%\n"
    }
   }
  },
  {
   "cell_type": "code",
   "execution_count": 5,
   "outputs": [
    {
     "data": {
      "text/plain": "                 ts  bytes_out  pkts_out  bytes_in  pkts_in  \\\n0      1.592754e+09       3366        13      5427       10   \n1      1.592715e+09       2542        11      4995       11   \n2      1.592713e+09       3415        14      5102       11   \n3      1.592755e+09       3341        15      7847       10   \n4      1.592713e+09       3336        16     11718       12   \n...             ...        ...       ...       ...      ...   \n74995  1.593624e+09        195        32     76158       32   \n74996  1.593183e+09        681        90    998763      144   \n74997  1.593521e+09        465        36    348827       58   \n74998  1.593512e+09       2649        15       671       14   \n74999  1.592755e+09       1590         5       263        4   \n\n                                                 packets  \\\n0      [{'t': 0.0, 'd': '>', 'l': 60, 'b': 0, 'iat': ...   \n1      [{'t': 0.0, 'd': '>', 'l': 60, 'b': 0, 'iat': ...   \n2      [{'t': 0.0, 'd': '>', 'l': 60, 'b': 0, 'iat': ...   \n3      [{'t': 0.0, 'd': '>', 'l': 60, 'b': 0, 'iat': ...   \n4      [{'t': 0.0, 'd': '>', 'l': 60, 'b': 0, 'iat': ...   \n...                                                  ...   \n74995  [{'t': 0.0, 'd': '>', 'l': 60, 'b': 0, 'iat': ...   \n74996  [{'t': 0.0, 'd': '>', 'l': 60, 'b': 0, 'iat': ...   \n74997  [{'t': 0.0, 'd': '>', 'l': 60, 'b': 0, 'iat': ...   \n74998  [{'t': 0.0, 'd': '>', 'l': 60, 'b': 0, 'iat': ...   \n74999  [{'t': 0.0, 'd': '>', 'l': 60, 'b': 0, 'iat': ...   \n\n                                                  upload  \\\n0      [22, 3, 1, 2, 0, 1, 0, 1, 252, 3, 3, 53, 67, 1...   \n1      [22, 3, 1, 2, 0, 1, 0, 1, 252, 3, 3, 76, 69, 1...   \n2      [22, 3, 1, 2, 0, 1, 0, 1, 252, 3, 3, 66, 7, 12...   \n3      [22, 3, 1, 2, 0, 1, 0, 1, 252, 3, 3, 134, 147,...   \n4      [22, 3, 1, 2, 0, 1, 0, 1, 252, 3, 3, 172, 44, ...   \n...                                                  ...   \n74995  [71, 69, 84, 32, 47, 105, 109, 103, 47, 97, 10...   \n74996  [71, 69, 84, 32, 47, 50, 48, 50, 48, 47, 48, 5...   \n74997  [71, 69, 84, 32, 47, 50, 48, 50, 48, 47, 48, 5...   \n74998  [22, 3, 1, 2, 0, 1, 0, 1, 252, 3, 3, 194, 184,...   \n74999  [71, 69, 84, 32, 47, 97, 112, 105, 47, 111, 11...   \n\n                                                download  \\\n0      [22, 3, 3, 0, 65, 2, 0, 0, 61, 3, 3, 103, 40, ...   \n1      [22, 3, 3, 0, 84, 2, 0, 0, 80, 3, 3, 42, 124, ...   \n2      [22, 3, 3, 0, 65, 2, 0, 0, 61, 3, 3, 242, 3, 1...   \n3      [22, 3, 3, 0, 84, 2, 0, 0, 80, 3, 3, 216, 0, 7...   \n4      [22, 3, 3, 0, 84, 2, 0, 0, 80, 3, 3, 179, 165,...   \n...                                                  ...   \n74995  [72, 84, 84, 80, 47, 49, 46, 49, 32, 50, 48, 4...   \n74996  [72, 84, 84, 80, 47, 49, 46, 49, 32, 50, 48, 5...   \n74997  [72, 84, 84, 80, 47, 49, 46, 49, 32, 50, 48, 5...   \n74998  [22, 3, 3, 0, 94, 2, 0, 0, 90, 3, 3, 234, 115,...   \n74999  [72, 84, 84, 80, 47, 49, 46, 49, 32, 50, 48, 4...   \n\n                                                    upBD  \\\n0      [320, 31, 15, 34, 13, 16, 20, 14, 19, 18, 21, ...   \n1      [319, 26, 20, 31, 15, 10, 10, 11, 19, 9, 15, 1...   \n2      [317, 36, 19, 32, 18, 11, 20, 15, 16, 12, 11, ...   \n3      [322, 31, 21, 31, 9, 17, 10, 10, 19, 16, 10, 1...   \n4      [317, 29, 18, 31, 17, 22, 15, 8, 18, 11, 17, 1...   \n...                                                  ...   \n74995  [0, 0, 0, 0, 0, 0, 0, 0, 0, 0, 6, 0, 0, 6, 0, ...   \n74996  [0, 0, 0, 0, 0, 0, 0, 0, 0, 0, 19, 0, 0, 19, 0...   \n74997  [0, 0, 0, 0, 0, 0, 0, 0, 0, 0, 13, 0, 0, 13, 0...   \n74998  [213, 19, 17, 44, 16, 14, 12, 14, 17, 7, 12, 4...   \n74999  [0, 0, 0, 0, 0, 0, 0, 0, 0, 0, 7, 0, 0, 7, 0, ...   \n\n                                                  downBD        dur  \\\n0      [109, 144, 67, 109, 89, 62, 117, 31, 32, 36, 2...   4.078236   \n1      [113, 134, 64, 107, 89, 63, 118, 28, 32, 40, 2...  29.256948   \n2      [104, 138, 64, 107, 85, 63, 115, 28, 32, 34, 1...   1.040782   \n3      [125, 153, 80, 114, 96, 76, 125, 40, 35, 46, 3...   3.047766   \n4      [134, 168, 97, 131, 114, 95, 146, 54, 60, 61, ...   3.148750   \n...                                                  ...        ...   \n74995  [2640, 575, 2686, 168, 237, 746, 138, 149, 131...  16.844443   \n74996  [28909, 5935, 4969, 4546, 4322, 4080, 3971, 38...   1.154920   \n74997  [43346, 5657, 3117, 1658, 1912, 1473, 1530, 13...   0.327309   \n74998  [24, 4, 4, 21, 3, 5, 2, 0, 5, 3, 1, 2, 4, 2, 1...  48.219943   \n74999  [0, 0, 0, 0, 0, 0, 0, 0, 0, 0, 7, 0, 0, 6, 0, ...   0.453363   \n\n              sa               da     sp   dp  pr         label  \n0      10.1.10.1   111.206.251.53  47416  443   6  360借条-贷款分期借款  \n1      10.1.10.1   27.115.124.182  40676  443   6  360借条-贷款分期借款  \n2      10.1.10.1   111.206.251.53  43916  443   6  360借条-贷款分期借款  \n3      10.1.10.1   111.206.251.53  49846  443   6  360借条-贷款分期借款  \n4      10.1.10.1   111.206.251.53  44102  443   6  360借条-贷款分期借款  \n...          ...              ...    ...  ...  ..           ...  \n74995  10.1.10.1  221.235.187.213  33086   80   6          驾考宝典  \n74996  10.1.10.1   222.186.17.248  37992   80   6          驾考宝典  \n74997  10.1.10.1    14.17.124.241  50224   80   6          驾考宝典  \n74998  10.1.10.1    120.55.105.43  60818  443   6          驾考宝典  \n74999  10.1.10.1    47.99.229.158  46458   80   6          驾考宝典  \n\n[75000 rows x 17 columns]",
      "text/html": "<div>\n<style scoped>\n    .dataframe tbody tr th:only-of-type {\n        vertical-align: middle;\n    }\n\n    .dataframe tbody tr th {\n        vertical-align: top;\n    }\n\n    .dataframe thead th {\n        text-align: right;\n    }\n</style>\n<table border=\"1\" class=\"dataframe\">\n  <thead>\n    <tr style=\"text-align: right;\">\n      <th></th>\n      <th>ts</th>\n      <th>bytes_out</th>\n      <th>pkts_out</th>\n      <th>bytes_in</th>\n      <th>pkts_in</th>\n      <th>packets</th>\n      <th>upload</th>\n      <th>download</th>\n      <th>upBD</th>\n      <th>downBD</th>\n      <th>dur</th>\n      <th>sa</th>\n      <th>da</th>\n      <th>sp</th>\n      <th>dp</th>\n      <th>pr</th>\n      <th>label</th>\n    </tr>\n  </thead>\n  <tbody>\n    <tr>\n      <th>0</th>\n      <td>1.592754e+09</td>\n      <td>3366</td>\n      <td>13</td>\n      <td>5427</td>\n      <td>10</td>\n      <td>[{'t': 0.0, 'd': '&gt;', 'l': 60, 'b': 0, 'iat': ...</td>\n      <td>[22, 3, 1, 2, 0, 1, 0, 1, 252, 3, 3, 53, 67, 1...</td>\n      <td>[22, 3, 3, 0, 65, 2, 0, 0, 61, 3, 3, 103, 40, ...</td>\n      <td>[320, 31, 15, 34, 13, 16, 20, 14, 19, 18, 21, ...</td>\n      <td>[109, 144, 67, 109, 89, 62, 117, 31, 32, 36, 2...</td>\n      <td>4.078236</td>\n      <td>10.1.10.1</td>\n      <td>111.206.251.53</td>\n      <td>47416</td>\n      <td>443</td>\n      <td>6</td>\n      <td>360借条-贷款分期借款</td>\n    </tr>\n    <tr>\n      <th>1</th>\n      <td>1.592715e+09</td>\n      <td>2542</td>\n      <td>11</td>\n      <td>4995</td>\n      <td>11</td>\n      <td>[{'t': 0.0, 'd': '&gt;', 'l': 60, 'b': 0, 'iat': ...</td>\n      <td>[22, 3, 1, 2, 0, 1, 0, 1, 252, 3, 3, 76, 69, 1...</td>\n      <td>[22, 3, 3, 0, 84, 2, 0, 0, 80, 3, 3, 42, 124, ...</td>\n      <td>[319, 26, 20, 31, 15, 10, 10, 11, 19, 9, 15, 1...</td>\n      <td>[113, 134, 64, 107, 89, 63, 118, 28, 32, 40, 2...</td>\n      <td>29.256948</td>\n      <td>10.1.10.1</td>\n      <td>27.115.124.182</td>\n      <td>40676</td>\n      <td>443</td>\n      <td>6</td>\n      <td>360借条-贷款分期借款</td>\n    </tr>\n    <tr>\n      <th>2</th>\n      <td>1.592713e+09</td>\n      <td>3415</td>\n      <td>14</td>\n      <td>5102</td>\n      <td>11</td>\n      <td>[{'t': 0.0, 'd': '&gt;', 'l': 60, 'b': 0, 'iat': ...</td>\n      <td>[22, 3, 1, 2, 0, 1, 0, 1, 252, 3, 3, 66, 7, 12...</td>\n      <td>[22, 3, 3, 0, 65, 2, 0, 0, 61, 3, 3, 242, 3, 1...</td>\n      <td>[317, 36, 19, 32, 18, 11, 20, 15, 16, 12, 11, ...</td>\n      <td>[104, 138, 64, 107, 85, 63, 115, 28, 32, 34, 1...</td>\n      <td>1.040782</td>\n      <td>10.1.10.1</td>\n      <td>111.206.251.53</td>\n      <td>43916</td>\n      <td>443</td>\n      <td>6</td>\n      <td>360借条-贷款分期借款</td>\n    </tr>\n    <tr>\n      <th>3</th>\n      <td>1.592755e+09</td>\n      <td>3341</td>\n      <td>15</td>\n      <td>7847</td>\n      <td>10</td>\n      <td>[{'t': 0.0, 'd': '&gt;', 'l': 60, 'b': 0, 'iat': ...</td>\n      <td>[22, 3, 1, 2, 0, 1, 0, 1, 252, 3, 3, 134, 147,...</td>\n      <td>[22, 3, 3, 0, 84, 2, 0, 0, 80, 3, 3, 216, 0, 7...</td>\n      <td>[322, 31, 21, 31, 9, 17, 10, 10, 19, 16, 10, 1...</td>\n      <td>[125, 153, 80, 114, 96, 76, 125, 40, 35, 46, 3...</td>\n      <td>3.047766</td>\n      <td>10.1.10.1</td>\n      <td>111.206.251.53</td>\n      <td>49846</td>\n      <td>443</td>\n      <td>6</td>\n      <td>360借条-贷款分期借款</td>\n    </tr>\n    <tr>\n      <th>4</th>\n      <td>1.592713e+09</td>\n      <td>3336</td>\n      <td>16</td>\n      <td>11718</td>\n      <td>12</td>\n      <td>[{'t': 0.0, 'd': '&gt;', 'l': 60, 'b': 0, 'iat': ...</td>\n      <td>[22, 3, 1, 2, 0, 1, 0, 1, 252, 3, 3, 172, 44, ...</td>\n      <td>[22, 3, 3, 0, 84, 2, 0, 0, 80, 3, 3, 179, 165,...</td>\n      <td>[317, 29, 18, 31, 17, 22, 15, 8, 18, 11, 17, 1...</td>\n      <td>[134, 168, 97, 131, 114, 95, 146, 54, 60, 61, ...</td>\n      <td>3.148750</td>\n      <td>10.1.10.1</td>\n      <td>111.206.251.53</td>\n      <td>44102</td>\n      <td>443</td>\n      <td>6</td>\n      <td>360借条-贷款分期借款</td>\n    </tr>\n    <tr>\n      <th>...</th>\n      <td>...</td>\n      <td>...</td>\n      <td>...</td>\n      <td>...</td>\n      <td>...</td>\n      <td>...</td>\n      <td>...</td>\n      <td>...</td>\n      <td>...</td>\n      <td>...</td>\n      <td>...</td>\n      <td>...</td>\n      <td>...</td>\n      <td>...</td>\n      <td>...</td>\n      <td>...</td>\n      <td>...</td>\n    </tr>\n    <tr>\n      <th>74995</th>\n      <td>1.593624e+09</td>\n      <td>195</td>\n      <td>32</td>\n      <td>76158</td>\n      <td>32</td>\n      <td>[{'t': 0.0, 'd': '&gt;', 'l': 60, 'b': 0, 'iat': ...</td>\n      <td>[71, 69, 84, 32, 47, 105, 109, 103, 47, 97, 10...</td>\n      <td>[72, 84, 84, 80, 47, 49, 46, 49, 32, 50, 48, 4...</td>\n      <td>[0, 0, 0, 0, 0, 0, 0, 0, 0, 0, 6, 0, 0, 6, 0, ...</td>\n      <td>[2640, 575, 2686, 168, 237, 746, 138, 149, 131...</td>\n      <td>16.844443</td>\n      <td>10.1.10.1</td>\n      <td>221.235.187.213</td>\n      <td>33086</td>\n      <td>80</td>\n      <td>6</td>\n      <td>驾考宝典</td>\n    </tr>\n    <tr>\n      <th>74996</th>\n      <td>1.593183e+09</td>\n      <td>681</td>\n      <td>90</td>\n      <td>998763</td>\n      <td>144</td>\n      <td>[{'t': 0.0, 'd': '&gt;', 'l': 60, 'b': 0, 'iat': ...</td>\n      <td>[71, 69, 84, 32, 47, 50, 48, 50, 48, 47, 48, 5...</td>\n      <td>[72, 84, 84, 80, 47, 49, 46, 49, 32, 50, 48, 5...</td>\n      <td>[0, 0, 0, 0, 0, 0, 0, 0, 0, 0, 19, 0, 0, 19, 0...</td>\n      <td>[28909, 5935, 4969, 4546, 4322, 4080, 3971, 38...</td>\n      <td>1.154920</td>\n      <td>10.1.10.1</td>\n      <td>222.186.17.248</td>\n      <td>37992</td>\n      <td>80</td>\n      <td>6</td>\n      <td>驾考宝典</td>\n    </tr>\n    <tr>\n      <th>74997</th>\n      <td>1.593521e+09</td>\n      <td>465</td>\n      <td>36</td>\n      <td>348827</td>\n      <td>58</td>\n      <td>[{'t': 0.0, 'd': '&gt;', 'l': 60, 'b': 0, 'iat': ...</td>\n      <td>[71, 69, 84, 32, 47, 50, 48, 50, 48, 47, 48, 5...</td>\n      <td>[72, 84, 84, 80, 47, 49, 46, 49, 32, 50, 48, 5...</td>\n      <td>[0, 0, 0, 0, 0, 0, 0, 0, 0, 0, 13, 0, 0, 13, 0...</td>\n      <td>[43346, 5657, 3117, 1658, 1912, 1473, 1530, 13...</td>\n      <td>0.327309</td>\n      <td>10.1.10.1</td>\n      <td>14.17.124.241</td>\n      <td>50224</td>\n      <td>80</td>\n      <td>6</td>\n      <td>驾考宝典</td>\n    </tr>\n    <tr>\n      <th>74998</th>\n      <td>1.593512e+09</td>\n      <td>2649</td>\n      <td>15</td>\n      <td>671</td>\n      <td>14</td>\n      <td>[{'t': 0.0, 'd': '&gt;', 'l': 60, 'b': 0, 'iat': ...</td>\n      <td>[22, 3, 1, 2, 0, 1, 0, 1, 252, 3, 3, 194, 184,...</td>\n      <td>[22, 3, 3, 0, 94, 2, 0, 0, 90, 3, 3, 234, 115,...</td>\n      <td>[213, 19, 17, 44, 16, 14, 12, 14, 17, 7, 12, 4...</td>\n      <td>[24, 4, 4, 21, 3, 5, 2, 0, 5, 3, 1, 2, 4, 2, 1...</td>\n      <td>48.219943</td>\n      <td>10.1.10.1</td>\n      <td>120.55.105.43</td>\n      <td>60818</td>\n      <td>443</td>\n      <td>6</td>\n      <td>驾考宝典</td>\n    </tr>\n    <tr>\n      <th>74999</th>\n      <td>1.592755e+09</td>\n      <td>1590</td>\n      <td>5</td>\n      <td>263</td>\n      <td>4</td>\n      <td>[{'t': 0.0, 'd': '&gt;', 'l': 60, 'b': 0, 'iat': ...</td>\n      <td>[71, 69, 84, 32, 47, 97, 112, 105, 47, 111, 11...</td>\n      <td>[72, 84, 84, 80, 47, 49, 46, 49, 32, 50, 48, 4...</td>\n      <td>[0, 0, 0, 0, 0, 0, 0, 0, 0, 0, 7, 0, 0, 7, 0, ...</td>\n      <td>[0, 0, 0, 0, 0, 0, 0, 0, 0, 0, 7, 0, 0, 6, 0, ...</td>\n      <td>0.453363</td>\n      <td>10.1.10.1</td>\n      <td>47.99.229.158</td>\n      <td>46458</td>\n      <td>80</td>\n      <td>6</td>\n      <td>驾考宝典</td>\n    </tr>\n  </tbody>\n</table>\n<p>75000 rows × 17 columns</p>\n</div>"
     },
     "execution_count": 5,
     "metadata": {},
     "output_type": "execute_result"
    }
   ],
   "source": [
    "with gzip.open(f'Dataset/dataset_500.json.gz') as f:\n",
    "    DATA = json.loads(f.read())\n",
    "df_test = pd.DataFrame(DATA)\n",
    "df_test"
   ],
   "metadata": {
    "collapsed": false,
    "pycharm": {
     "name": "#%%\n"
    }
   }
  },
  {
   "cell_type": "code",
   "execution_count": 6,
   "outputs": [
    {
     "data": {
      "text/plain": "((52000, 17), (23000, 17))"
     },
     "execution_count": 6,
     "metadata": {},
     "output_type": "execute_result"
    }
   ],
   "source": [
    "df_known = df_test[df_test['label'].isin(label2idx.keys())]\n",
    "df_unknown = df_test[~df_test['label'].isin(label2idx.keys())]\n",
    "df_known.shape, df_unknown.shape"
   ],
   "metadata": {
    "collapsed": false,
    "pycharm": {
     "name": "#%%\n"
    }
   }
  },
  {
   "cell_type": "code",
   "execution_count": null,
   "outputs": [],
   "source": [],
   "metadata": {
    "collapsed": false,
    "pycharm": {
     "name": "#%%\n"
    }
   }
  },
  {
   "cell_type": "code",
   "execution_count": 7,
   "outputs": [],
   "source": [
    "from sklearn.model_selection import train_test_split\n",
    "\n",
    "df_train, df_val = train_test_split(df, test_size=0.1, random_state=42)"
   ],
   "metadata": {
    "collapsed": false,
    "pycharm": {
     "name": "#%%\n"
    }
   }
  },
  {
   "cell_type": "code",
   "execution_count": 8,
   "outputs": [],
   "source": [
    "X_train_upBD, X_train_downBD = np.array(df_train['upBD'].tolist()), np.array(df_train['downBD'].tolist())\n",
    "X_val_upBD, X_val_downBD = np.array(df_val['upBD'].tolist()), np.array(df_val['downBD'].tolist())\n",
    "X_test_upBD, X_test_downBD = np.array(df_known['upBD'].tolist()), np.array(df_known['downBD'].tolist())\n"
   ],
   "metadata": {
    "collapsed": false,
    "pycharm": {
     "name": "#%%\n"
    }
   }
  },
  {
   "cell_type": "code",
   "execution_count": 9,
   "outputs": [
    {
     "name": "stderr",
     "output_type": "stream",
     "text": [
      "C:\\Users\\Administrator\\AppData\\Local\\Temp\\ipykernel_16632\\406964683.py:1: RuntimeWarning: invalid value encountered in true_divide\n",
      "  X_train_upBD_ = np.nan_to_num(X_train_upBD/X_train_upBD.sum(axis=1)[:,np.newaxis])\n",
      "C:\\Users\\Administrator\\AppData\\Local\\Temp\\ipykernel_16632\\406964683.py:2: RuntimeWarning: invalid value encountered in true_divide\n",
      "  X_train_downBD_ = np.nan_to_num(X_train_downBD/X_train_downBD.sum(axis=1)[:,np.newaxis])\n",
      "C:\\Users\\Administrator\\AppData\\Local\\Temp\\ipykernel_16632\\406964683.py:4: RuntimeWarning: invalid value encountered in true_divide\n",
      "  X_val_upBD_ = np.nan_to_num(X_val_upBD/X_val_upBD.sum(axis=1)[:,np.newaxis])\n",
      "C:\\Users\\Administrator\\AppData\\Local\\Temp\\ipykernel_16632\\406964683.py:5: RuntimeWarning: invalid value encountered in true_divide\n",
      "  X_val_downBD_ = np.nan_to_num(X_val_downBD/X_val_downBD.sum(axis=1)[:,np.newaxis])\n",
      "C:\\Users\\Administrator\\AppData\\Local\\Temp\\ipykernel_16632\\406964683.py:7: RuntimeWarning: invalid value encountered in true_divide\n",
      "  X_test_upBD_ = np.nan_to_num(X_test_upBD/X_test_upBD.sum(axis=1)[:,np.newaxis])\n",
      "C:\\Users\\Administrator\\AppData\\Local\\Temp\\ipykernel_16632\\406964683.py:8: RuntimeWarning: invalid value encountered in true_divide\n",
      "  X_test_downBD_ = np.nan_to_num(X_test_downBD/X_test_downBD.sum(axis=1)[:,np.newaxis])\n"
     ]
    }
   ],
   "source": [
    "X_train_upBD_ = np.nan_to_num(X_train_upBD/X_train_upBD.sum(axis=1)[:,np.newaxis])\n",
    "X_train_downBD_ = np.nan_to_num(X_train_downBD/X_train_downBD.sum(axis=1)[:,np.newaxis])\n",
    "\n",
    "X_val_upBD_ = np.nan_to_num(X_val_upBD/X_val_upBD.sum(axis=1)[:,np.newaxis])\n",
    "X_val_downBD_ = np.nan_to_num(X_val_downBD/X_val_downBD.sum(axis=1)[:,np.newaxis])\n",
    "\n",
    "X_test_upBD_ = np.nan_to_num(X_test_upBD/X_test_upBD.sum(axis=1)[:,np.newaxis])\n",
    "X_test_downBD_ = np.nan_to_num(X_test_downBD/X_test_downBD.sum(axis=1)[:,np.newaxis])"
   ],
   "metadata": {
    "collapsed": false,
    "pycharm": {
     "name": "#%%\n"
    }
   }
  },
  {
   "cell_type": "code",
   "execution_count": 11,
   "outputs": [
    {
     "data": {
      "text/plain": "((196560, 512), (196560,), (21840, 512), (21840,), (52000, 512), (52000,))"
     },
     "execution_count": 11,
     "metadata": {},
     "output_type": "execute_result"
    }
   ],
   "source": [
    "X_train = np.concatenate([X_train_upBD_,X_train_downBD_],axis=1)\n",
    "X_val = np.concatenate([X_val_upBD_,X_val_downBD_],axis=1)\n",
    "X_test = np.concatenate([X_test_upBD_,X_test_downBD_],axis=1)\n",
    "\n",
    "y_train = df_train['label'].apply(lambda x:label2idx[x])\n",
    "y_val = df_val['label'].apply(lambda x:label2idx[x])\n",
    "y_test = df_known['label'].apply(lambda x:label2idx[x])\n",
    "\n",
    "X_train.shape, y_train.shape, X_val.shape, y_val.shape, X_test.shape, y_test.shape"
   ],
   "metadata": {
    "collapsed": false,
    "pycharm": {
     "name": "#%%\n"
    }
   }
  },
  {
   "cell_type": "code",
   "execution_count": 12,
   "outputs": [],
   "source": [
    "from xgboost import XGBClassifier\n",
    "\n",
    "from sklearn.metrics import accuracy_score, confusion_matrix, classification_report\n",
    "import joblib"
   ],
   "metadata": {
    "collapsed": false,
    "pycharm": {
     "name": "#%%\n"
    }
   }
  },
  {
   "cell_type": "code",
   "execution_count": null,
   "outputs": [],
   "source": [
    "model = XGBClassifier()\n",
    "model.fit(X=X_train,y=y_train)\n",
    "y_pred_ = model.predict(X=X_val)\n",
    "print(accuracy_score(y_true=y_val,y_pred=y_pred_))"
   ],
   "metadata": {
    "collapsed": false,
    "pycharm": {
     "name": "#%%\n"
    }
   }
  },
  {
   "cell_type": "code",
   "execution_count": null,
   "outputs": [],
   "source": [
    "joblib.dump(model,f'model/BD-boost.joblib')"
   ],
   "metadata": {
    "collapsed": false,
    "pycharm": {
     "name": "#%%\n"
    }
   }
  },
  {
   "cell_type": "code",
   "execution_count": null,
   "outputs": [],
   "source": [
    "y_pred = model.predict(X=X_test)\n",
    "print(accuracy_score(y_true=y_test,y_pred=y_pred))\n",
    "print(confusion_matrix(y_true=y_test,y_pred=y_pred))\n",
    "print(classification_report(y_true=y_test,y_pred=y_pred,target_names=labels))"
   ],
   "metadata": {
    "collapsed": false,
    "pycharm": {
     "name": "#%%\n"
    }
   }
  }
 ],
 "metadata": {
  "kernelspec": {
   "display_name": "Python 3",
   "language": "python",
   "name": "python3"
  },
  "language_info": {
   "codemirror_mode": {
    "name": "ipython",
    "version": 2
   },
   "file_extension": ".py",
   "mimetype": "text/x-python",
   "name": "python",
   "nbconvert_exporter": "python",
   "pygments_lexer": "ipython2",
   "version": "2.7.6"
  }
 },
 "nbformat": 4,
 "nbformat_minor": 0
}